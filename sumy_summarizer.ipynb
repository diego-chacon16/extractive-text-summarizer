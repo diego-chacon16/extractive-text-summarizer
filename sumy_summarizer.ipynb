{
 "cells": [
  {
   "cell_type": "markdown",
   "id": "2cc49468-1326-455f-b06a-0f21b67c7044",
   "metadata": {},
   "source": [
    "# Text Summarization with Sumy\n",
    "\n",
    "#### What is Sumy?\n",
    "\n",
    "+ Is a simple library used for extracting summary from HTML pages or plain texts\n",
    "+ The package also contains simple evaluation framework for text summaries\n",
    "\n",
    "#### Goal\n",
    "\n",
    "+ To build an extractive text summarizer highlighting the key points of the article\n",
    "\n",
    "#### Approach\n",
    "\n",
    "+ Import libraries and data\n",
    "+ Create a function to wrap the text and easier to read\n",
    "+ Build the summarizer and parser using sumy packages\n",
    "+ Add them to the dataframe"
   ]
  },
  {
   "cell_type": "code",
   "execution_count": 1,
   "id": "3d621324-adf5-4ab2-82a3-44f8b3718796",
   "metadata": {},
   "outputs": [
    {
     "data": {
      "text/html": [
       "<div>\n",
       "<style scoped>\n",
       "    .dataframe tbody tr th:only-of-type {\n",
       "        vertical-align: middle;\n",
       "    }\n",
       "\n",
       "    .dataframe tbody tr th {\n",
       "        vertical-align: top;\n",
       "    }\n",
       "\n",
       "    .dataframe thead th {\n",
       "        text-align: right;\n",
       "    }\n",
       "</style>\n",
       "<table border=\"1\" class=\"dataframe\">\n",
       "  <thead>\n",
       "    <tr style=\"text-align: right;\">\n",
       "      <th></th>\n",
       "      <th>text</th>\n",
       "      <th>labels</th>\n",
       "    </tr>\n",
       "  </thead>\n",
       "  <tbody>\n",
       "    <tr>\n",
       "      <th>0</th>\n",
       "      <td>Ad sales boost Time Warner profit\\n\\nQuarterly...</td>\n",
       "      <td>business</td>\n",
       "    </tr>\n",
       "    <tr>\n",
       "      <th>1</th>\n",
       "      <td>Dollar gains on Greenspan speech\\n\\nThe dollar...</td>\n",
       "      <td>business</td>\n",
       "    </tr>\n",
       "    <tr>\n",
       "      <th>2</th>\n",
       "      <td>Yukos unit buyer faces loan claim\\n\\nThe owner...</td>\n",
       "      <td>business</td>\n",
       "    </tr>\n",
       "    <tr>\n",
       "      <th>3</th>\n",
       "      <td>High fuel prices hit BA's profits\\n\\nBritish A...</td>\n",
       "      <td>business</td>\n",
       "    </tr>\n",
       "    <tr>\n",
       "      <th>4</th>\n",
       "      <td>Pernod takeover talk lifts Domecq\\n\\nShares in...</td>\n",
       "      <td>business</td>\n",
       "    </tr>\n",
       "  </tbody>\n",
       "</table>\n",
       "</div>"
      ],
      "text/plain": [
       "                                                text    labels\n",
       "0  Ad sales boost Time Warner profit\\n\\nQuarterly...  business\n",
       "1  Dollar gains on Greenspan speech\\n\\nThe dollar...  business\n",
       "2  Yukos unit buyer faces loan claim\\n\\nThe owner...  business\n",
       "3  High fuel prices hit BA's profits\\n\\nBritish A...  business\n",
       "4  Pernod takeover talk lifts Domecq\\n\\nShares in...  business"
      ]
     },
     "execution_count": 1,
     "metadata": {},
     "output_type": "execute_result"
    }
   ],
   "source": [
    "import pandas as pd\n",
    "import numpy as np\n",
    "import matplotlib.pyplot as plt\n",
    "import seaborn as sns\n",
    "import textwrap\n",
    "\n",
    "df = pd.read_csv('data/bbc_text.csv')\n",
    "df.head(5)"
   ]
  },
  {
   "cell_type": "code",
   "execution_count": 2,
   "id": "88902b90-f770-46a0-8c18-adfa519137af",
   "metadata": {},
   "outputs": [
    {
     "name": "stdout",
     "output_type": "stream",
     "text": [
      "<class 'pandas.core.frame.DataFrame'>\n",
      "RangeIndex: 2225 entries, 0 to 2224\n",
      "Data columns (total 2 columns):\n",
      " #   Column  Non-Null Count  Dtype \n",
      "---  ------  --------------  ----- \n",
      " 0   text    2225 non-null   object\n",
      " 1   labels  2225 non-null   object\n",
      "dtypes: object(2)\n",
      "memory usage: 34.9+ KB\n"
     ]
    }
   ],
   "source": [
    "# looking at the data landscape and the data types\n",
    "\n",
    "df.info()"
   ]
  },
  {
   "cell_type": "code",
   "execution_count": 3,
   "id": "ee083471-c859-4802-90d3-dfb7cc14e465",
   "metadata": {},
   "outputs": [],
   "source": [
    "# switching df['text'] to string from object \n",
    "\n",
    "df['text'] = pd.Series(df['text'], dtype = 'string')"
   ]
  },
  {
   "cell_type": "code",
   "execution_count": 4,
   "id": "09e7f214-0536-4fdf-a5a5-afe2f3d4182a",
   "metadata": {},
   "outputs": [],
   "source": [
    "# filtering out labels that are not business and grabbing a random simple\n",
    "\n",
    "doc = df[df['labels'] == 'entertainment']['text'].sample(random_state = 123)"
   ]
  },
  {
   "cell_type": "code",
   "execution_count": 5,
   "id": "e771d91b-357a-4459-a106-d68681654e85",
   "metadata": {},
   "outputs": [],
   "source": [
    "# using textwrap make the text more visually appealing\n",
    "\n",
    "def wrap(x):\n",
    "    return textwrap.fill(x, replace_whitespace = False, fix_sentence_endings = True)"
   ]
  },
  {
   "cell_type": "code",
   "execution_count": 6,
   "id": "0b915e4e-b239-42ad-9a12-7307300f10c2",
   "metadata": {},
   "outputs": [],
   "source": [
    "from sumy.summarizers.text_rank import TextRankSummarizer\n",
    "from sumy.summarizers.lsa import LsaSummarizer\n",
    "from sumy.parsers.plaintext import PlaintextParser\n",
    "from sumy.nlp.tokenizers import Tokenizer"
   ]
  },
  {
   "cell_type": "code",
   "execution_count": 7,
   "id": "178219b9-2a12-4fdf-be24-c7cc06196252",
   "metadata": {},
   "outputs": [],
   "source": [
    "summarizer = TextRankSummarizer() # assigning Textrank summarizer to variable\n",
    "parser = PlaintextParser.from_string(doc.iloc[0].split('\\n', 1)[1], Tokenizer('english')) # passing the first document through the parser"
   ]
  },
  {
   "cell_type": "code",
   "execution_count": 8,
   "id": "33cd2b5b-d6a4-4b81-a5df-fd81bbcc992e",
   "metadata": {},
   "outputs": [],
   "source": [
    "summary = summarizer(parser.document, sentences_count = 5) # summarizing to 5 sentences"
   ]
  },
  {
   "cell_type": "code",
   "execution_count": 9,
   "id": "3ec853c1-a9e3-42cf-aec7-32534d398a8e",
   "metadata": {},
   "outputs": [
    {
     "data": {
      "text/plain": [
       "(<Sentence: The 21-year-old singer won the award for best female artist, with Australian Idol runner-up Shannon Noll taking the title of best male at the ceremony.>,\n",
       " <Sentence: As well as best female, Goodrem also took home the Pepsi Viewers Choice Award, whilst Green Day bagged the prize for best rock video for American Idiot.>,\n",
       " <Sentence: The Black Eyed Peas won awards for best R 'n' B video and sexiest video, both for Hey Mama.>,\n",
       " <Sentence: Local singer and songwriter Missy Higgins took the title of breakthrough artist of the year, with Australian Idol winner Guy Sebastian taking the honours for best pop video.>,\n",
       " <Sentence: The ceremony was held at the Luna Park fairground in Sydney Harbour and was hosted by the Osbourne family.>)"
      ]
     },
     "execution_count": 9,
     "metadata": {},
     "output_type": "execute_result"
    }
   ],
   "source": [
    "summary # printing out the summary"
   ]
  },
  {
   "cell_type": "code",
   "execution_count": 10,
   "id": "ac5f0411-71a7-43e6-a7d7-c7c453a9f02e",
   "metadata": {},
   "outputs": [
    {
     "name": "stdout",
     "output_type": "stream",
     "text": [
      "The 21-year-old singer won the award for best female artist, with\n",
      "Australian Idol runner-up Shannon Noll taking the title of best male\n",
      "at the ceremony.\n",
      "As well as best female, Goodrem also took home the Pepsi Viewers\n",
      "Choice Award, whilst Green Day bagged the prize for best rock video\n",
      "for American Idiot.\n",
      "The Black Eyed Peas won awards for best R 'n' B video and sexiest\n",
      "video, both for Hey Mama.\n",
      "Local singer and songwriter Missy Higgins took the title of\n",
      "breakthrough artist of the year, with Australian Idol winner Guy\n",
      "Sebastian taking the honours for best pop video.\n",
      "The ceremony was held at the Luna Park fairground in Sydney Harbour\n",
      "and was hosted by the Osbourne family.\n"
     ]
    }
   ],
   "source": [
    "# after adding the wrap function, here is how it looks \n",
    "\n",
    "for s in summary:\n",
    "    print(wrap(str(s)))"
   ]
  },
  {
   "cell_type": "code",
   "execution_count": 11,
   "id": "81f7f2e1-d114-46ec-81ca-d03c40d56602",
   "metadata": {},
   "outputs": [
    {
     "name": "stdout",
     "output_type": "stream",
     "text": [
      "Goodrem, known in both Britain and Australia for her role as Nina\n",
      "Tucker in TV soap Neighbours, also performed a duet with boyfriend\n",
      "Brian McFadden.\n",
      "Other winners included Green Day, voted best group, and the Black Eyed\n",
      "Peas.\n",
      "Goodrem, Green Day and the Black Eyed Peas took home two awards each.\n",
      "As well as best female, Goodrem also took home the Pepsi Viewers\n",
      "Choice Award, whilst Green Day bagged the prize for best rock video\n",
      "for American Idiot.\n",
      "Artists including Carmen Electra, Missy Higgins, Kelly Osbourne, Green\n",
      "Day, Ja Rule and Natalie Imbruglia gave live performances at the\n",
      "event.\n"
     ]
    }
   ],
   "source": [
    "doc = df[df['labels'] == 'entertainment']['text'].sample(random_state = 123) # getting a random document under the entertainment label\n",
    "summarizer = LsaSummarizer()\n",
    "parser = PlaintextParser.from_string(doc.iloc[0].split('\\n', 1)[1], Tokenizer('english')) # passing first document through the parser\n",
    "summary = summarizer(parser.document, sentences_count = 5) # summarizing to 5 sentences\n",
    "\n",
    "for s in summary:\n",
    "    print(wrap(str(s))) # printing out the summary"
   ]
  },
  {
   "cell_type": "code",
   "execution_count": 12,
   "id": "a13522af-5c1b-423b-93a8-606e00e8b97f",
   "metadata": {},
   "outputs": [],
   "source": [
    "# adding the text into a variable to pass in the plain text parser\n",
    "\n",
    "text = df['text']"
   ]
  },
  {
   "cell_type": "code",
   "execution_count": 13,
   "id": "bde11567-e7a4-4f3e-9cf9-b50857537388",
   "metadata": {},
   "outputs": [],
   "source": [
    "# creating a function that summarizes the text, and then stores into a list that can be brought into the dataframe\n",
    "\n",
    "def summarize(text):\n",
    "    summarizer = LsaSummarizer() # assigning the summarizer to a variable\n",
    "    parser = PlaintextParser(text, Tokenizer('english')) # passing the text as string through and tokenizing \n",
    "    summary = summarizer(parser.document, sentences_count = 6) # summarizing document to 6 sentences\n",
    "    \n",
    "    return [wrap(str(s)) for s in summary] # return the summary in a list"
   ]
  },
  {
   "cell_type": "code",
   "execution_count": 14,
   "id": "d3a8df81-534e-4944-8aaa-5daf35ecdcd7",
   "metadata": {},
   "outputs": [
    {
     "data": {
      "text/html": [
       "<div>\n",
       "<style scoped>\n",
       "    .dataframe tbody tr th:only-of-type {\n",
       "        vertical-align: middle;\n",
       "    }\n",
       "\n",
       "    .dataframe tbody tr th {\n",
       "        vertical-align: top;\n",
       "    }\n",
       "\n",
       "    .dataframe thead th {\n",
       "        text-align: right;\n",
       "    }\n",
       "</style>\n",
       "<table border=\"1\" class=\"dataframe\">\n",
       "  <thead>\n",
       "    <tr style=\"text-align: right;\">\n",
       "      <th></th>\n",
       "      <th>text</th>\n",
       "      <th>labels</th>\n",
       "      <th>summary</th>\n",
       "    </tr>\n",
       "  </thead>\n",
       "  <tbody>\n",
       "    <tr>\n",
       "      <th>0</th>\n",
       "      <td>Ad sales boost Time Warner profit\n",
       "\n",
       "Quarterly p...</td>\n",
       "      <td>business</td>\n",
       "      <td>[The firm, which is now one of the biggest inv...</td>\n",
       "    </tr>\n",
       "    <tr>\n",
       "      <th>1</th>\n",
       "      <td>Dollar gains on Greenspan speech\n",
       "\n",
       "The dollar h...</td>\n",
       "      <td>business</td>\n",
       "      <td>[And Alan Greenspan highlighted the US governm...</td>\n",
       "    </tr>\n",
       "    <tr>\n",
       "      <th>2</th>\n",
       "      <td>Yukos unit buyer faces loan claim\n",
       "\n",
       "The owners ...</td>\n",
       "      <td>business</td>\n",
       "      <td>[The owners of embattled Russian oil giant Yuk...</td>\n",
       "    </tr>\n",
       "    <tr>\n",
       "      <th>3</th>\n",
       "      <td>High fuel prices hit BA's profits\n",
       "\n",
       "British Air...</td>\n",
       "      <td>business</td>\n",
       "      <td>[British Airways has blamed high fuel prices f...</td>\n",
       "    </tr>\n",
       "    <tr>\n",
       "      <th>4</th>\n",
       "      <td>Pernod takeover talk lifts Domecq\n",
       "\n",
       "Shares in U...</td>\n",
       "      <td>business</td>\n",
       "      <td>[Shares in UK drinks and food firm Allied Dome...</td>\n",
       "    </tr>\n",
       "  </tbody>\n",
       "</table>\n",
       "</div>"
      ],
      "text/plain": [
       "                                                text    labels  \\\n",
       "0  Ad sales boost Time Warner profit\n",
       "\n",
       "Quarterly p...  business   \n",
       "1  Dollar gains on Greenspan speech\n",
       "\n",
       "The dollar h...  business   \n",
       "2  Yukos unit buyer faces loan claim\n",
       "\n",
       "The owners ...  business   \n",
       "3  High fuel prices hit BA's profits\n",
       "\n",
       "British Air...  business   \n",
       "4  Pernod takeover talk lifts Domecq\n",
       "\n",
       "Shares in U...  business   \n",
       "\n",
       "                                             summary  \n",
       "0  [The firm, which is now one of the biggest inv...  \n",
       "1  [And Alan Greenspan highlighted the US governm...  \n",
       "2  [The owners of embattled Russian oil giant Yuk...  \n",
       "3  [British Airways has blamed high fuel prices f...  \n",
       "4  [Shares in UK drinks and food firm Allied Dome...  "
      ]
     },
     "execution_count": 14,
     "metadata": {},
     "output_type": "execute_result"
    }
   ],
   "source": [
    "# now running the summarize function to loop through the dataset and provide a summary on each article\n",
    "\n",
    "df['summary'] = df['text'].apply(summarize)\n",
    "df.head(5)"
   ]
  },
  {
   "cell_type": "code",
   "execution_count": 15,
   "id": "93759aca-d4bc-4df4-a7e8-fb47853e5fca",
   "metadata": {},
   "outputs": [],
   "source": [
    "# switching df['text'] from object to string\n",
    "\n",
    "df['summary'] = pd.Series(df['summary'], dtype = 'string')"
   ]
  },
  {
   "cell_type": "code",
   "execution_count": 16,
   "id": "86e9f520-2632-4d1a-9dcc-54a341c726af",
   "metadata": {},
   "outputs": [],
   "source": [
    "texts = df['summary']"
   ]
  },
  {
   "cell_type": "code",
   "execution_count": 17,
   "id": "0c9b8a97-c8dd-478d-bb4b-21771e12b015",
   "metadata": {},
   "outputs": [],
   "source": [
    "# using a dictionary to map and replace unwanted and unnecessary characters with blank space or blank\n",
    "\n",
    "def replace_text(text:str) -> str:\n",
    "    replacement_map = {\n",
    "    \"\\\\n\" : \" \",\n",
    "    \"\\'\"  : \" \",\n",
    "    \" , \" : \"\",\n",
    "    '\",'  : \"\",\n",
    "      \"[\" : \"\",\n",
    "      \"]\" : \"\",\n",
    "      '\"' : \"\",\n",
    "    }\n",
    "\n",
    "    for find, new in replacement_map.items():\n",
    "        text = text.lower() # lowercase all text as it is coming through\n",
    "        text = text.replace(find, new) # find and replace with the dictionary above\n",
    "    return text.strip()"
   ]
  },
  {
   "cell_type": "code",
   "execution_count": 18,
   "id": "97f8ca13-7d3a-42da-aeda-eefc6067b61c",
   "metadata": {},
   "outputs": [],
   "source": [
    "df['clean'] = df['summary'].apply(replace_text) # applying the formula "
   ]
  },
  {
   "cell_type": "code",
   "execution_count": 19,
   "id": "2e65e976-c5b4-48b3-a7a4-1f2c76f7ad57",
   "metadata": {},
   "outputs": [
    {
     "data": {
      "text/plain": [
       "'the firm, which is now one of the biggest investors in google, benefited from sales of high-speed internet connections and higher advert sales. its profits were buoyed by one-off gains which offset a profit dip at warner bros, and less users for aol. time warner said on friday that it now owns 8% of search-engine google. but its own internet business, aol, had has mixed fortunes.time warner s fourth quarter profits were slightly better than analysts  expectations.  for the full-year, timewarner posted a profit of $3.36bn, up 27% from its 2003 performance, while revenues grew 6.4% to $42.09bn.'"
      ]
     },
     "execution_count": 19,
     "metadata": {},
     "output_type": "execute_result"
    }
   ],
   "source": [
    "df['clean'][0] # accessing the first clean summary in the column"
   ]
  },
  {
   "cell_type": "code",
   "execution_count": 20,
   "id": "e1d1a547-9d49-41a6-a7d5-fa531d0f29cf",
   "metadata": {},
   "outputs": [
    {
     "data": {
      "text/html": [
       "<div>\n",
       "<style scoped>\n",
       "    .dataframe tbody tr th:only-of-type {\n",
       "        vertical-align: middle;\n",
       "    }\n",
       "\n",
       "    .dataframe tbody tr th {\n",
       "        vertical-align: top;\n",
       "    }\n",
       "\n",
       "    .dataframe thead th {\n",
       "        text-align: right;\n",
       "    }\n",
       "</style>\n",
       "<table border=\"1\" class=\"dataframe\">\n",
       "  <thead>\n",
       "    <tr style=\"text-align: right;\">\n",
       "      <th></th>\n",
       "      <th>text</th>\n",
       "      <th>labels</th>\n",
       "      <th>summary</th>\n",
       "      <th>clean</th>\n",
       "    </tr>\n",
       "  </thead>\n",
       "  <tbody>\n",
       "    <tr>\n",
       "      <th>0</th>\n",
       "      <td>Ad sales boost Time Warner profit\n",
       "\n",
       "Quarterly p...</td>\n",
       "      <td>business</td>\n",
       "      <td>['The firm, which is now one of the biggest in...</td>\n",
       "      <td>the firm, which is now one of the biggest inve...</td>\n",
       "    </tr>\n",
       "    <tr>\n",
       "      <th>1</th>\n",
       "      <td>Dollar gains on Greenspan speech\n",
       "\n",
       "The dollar h...</td>\n",
       "      <td>business</td>\n",
       "      <td>[\"And Alan Greenspan highlighted the US govern...</td>\n",
       "      <td>and alan greenspan highlighted the us governme...</td>\n",
       "    </tr>\n",
       "    <tr>\n",
       "      <th>2</th>\n",
       "      <td>Yukos unit buyer faces loan claim\n",
       "\n",
       "The owners ...</td>\n",
       "      <td>business</td>\n",
       "      <td>['The owners of embattled Russian oil giant Yu...</td>\n",
       "      <td>the owners of embattled russian oil giant yuko...</td>\n",
       "    </tr>\n",
       "    <tr>\n",
       "      <th>3</th>\n",
       "      <td>High fuel prices hit BA's profits\n",
       "\n",
       "British Air...</td>\n",
       "      <td>business</td>\n",
       "      <td>['British Airways has blamed high fuel prices ...</td>\n",
       "      <td>british airways has blamed high fuel prices fo...</td>\n",
       "    </tr>\n",
       "    <tr>\n",
       "      <th>4</th>\n",
       "      <td>Pernod takeover talk lifts Domecq\n",
       "\n",
       "Shares in U...</td>\n",
       "      <td>business</td>\n",
       "      <td>[\"Shares in UK drinks and food firm Allied Dom...</td>\n",
       "      <td>shares in uk drinks and food firm allied domec...</td>\n",
       "    </tr>\n",
       "  </tbody>\n",
       "</table>\n",
       "</div>"
      ],
      "text/plain": [
       "                                                text    labels  \\\n",
       "0  Ad sales boost Time Warner profit\n",
       "\n",
       "Quarterly p...  business   \n",
       "1  Dollar gains on Greenspan speech\n",
       "\n",
       "The dollar h...  business   \n",
       "2  Yukos unit buyer faces loan claim\n",
       "\n",
       "The owners ...  business   \n",
       "3  High fuel prices hit BA's profits\n",
       "\n",
       "British Air...  business   \n",
       "4  Pernod takeover talk lifts Domecq\n",
       "\n",
       "Shares in U...  business   \n",
       "\n",
       "                                             summary  \\\n",
       "0  ['The firm, which is now one of the biggest in...   \n",
       "1  [\"And Alan Greenspan highlighted the US govern...   \n",
       "2  ['The owners of embattled Russian oil giant Yu...   \n",
       "3  ['British Airways has blamed high fuel prices ...   \n",
       "4  [\"Shares in UK drinks and food firm Allied Dom...   \n",
       "\n",
       "                                               clean  \n",
       "0  the firm, which is now one of the biggest inve...  \n",
       "1  and alan greenspan highlighted the us governme...  \n",
       "2  the owners of embattled russian oil giant yuko...  \n",
       "3  british airways has blamed high fuel prices fo...  \n",
       "4  shares in uk drinks and food firm allied domec...  "
      ]
     },
     "execution_count": 20,
     "metadata": {},
     "output_type": "execute_result"
    }
   ],
   "source": [
    "df.head(5)"
   ]
  },
  {
   "cell_type": "code",
   "execution_count": 21,
   "id": "e079af22-9879-4983-86e1-a9cdee9e7860",
   "metadata": {},
   "outputs": [
    {
     "name": "stderr",
     "output_type": "stream",
     "text": [
      "[nltk_data] Downloading package vader_lexicon to\n",
      "[nltk_data]     C:\\Users\\chaco\\AppData\\Roaming\\nltk_data...\n",
      "[nltk_data]   Package vader_lexicon is already up-to-date!\n"
     ]
    }
   ],
   "source": [
    "## installing libraries for vader\n",
    "\n",
    "import nltk\n",
    "\n",
    "# Download the lexicon\n",
    "nltk.download(\"vader_lexicon\")\n",
    "\n",
    "# Import the lexicon \n",
    "from nltk.sentiment.vader import SentimentIntensityAnalyzer # importing vader library\n",
    "\n",
    "vader = SentimentIntensityAnalyzer() # storing the analyzer in a variable"
   ]
  },
  {
   "cell_type": "code",
   "execution_count": 22,
   "id": "38dd3ae9-dde9-415c-aa9b-8cdab96aa062",
   "metadata": {},
   "outputs": [],
   "source": [
    "# pulling the first 251 characters of the first clean summary in the column\n",
    "\n",
    "text = df['clean'][0][0:250]"
   ]
  },
  {
   "cell_type": "code",
   "execution_count": 23,
   "id": "e9fba829-58ef-4781-b847-506fb1bc9b94",
   "metadata": {},
   "outputs": [
    {
     "data": {
      "text/plain": [
       "{'neg': 0.0, 'neu': 0.826, 'pos': 0.174, 'compound': 0.802}"
      ]
     },
     "execution_count": 23,
     "metadata": {},
     "output_type": "execute_result"
    }
   ],
   "source": [
    "# applying vader polarity scores to the sample text\n",
    "\n",
    "vader.polarity_scores(text)"
   ]
  },
  {
   "cell_type": "code",
   "execution_count": 24,
   "id": "e5d4d4c1-1627-4fab-b239-f0f7a945c7d2",
   "metadata": {},
   "outputs": [
    {
     "name": "stdout",
     "output_type": "stream",
     "text": [
      "<class 'pandas.core.frame.DataFrame'>\n",
      "RangeIndex: 2225 entries, 0 to 2224\n",
      "Data columns (total 4 columns):\n",
      " #   Column   Non-Null Count  Dtype \n",
      "---  ------   --------------  ----- \n",
      " 0   text     2225 non-null   string\n",
      " 1   labels   2225 non-null   object\n",
      " 2   summary  2225 non-null   string\n",
      " 3   clean    2225 non-null   object\n",
      "dtypes: object(2), string(2)\n",
      "memory usage: 69.7+ KB\n"
     ]
    }
   ],
   "source": [
    "# understanding the data landscape \n",
    "\n",
    "df.info()"
   ]
  },
  {
   "cell_type": "code",
   "execution_count": 25,
   "id": "9d0be408-aca5-4cdf-8623-f7042c99fe02",
   "metadata": {},
   "outputs": [],
   "source": [
    "# switching df['clean'] from object to string\n",
    "\n",
    "df['clean'] = pd.Series(df['clean'], dtype = 'string')"
   ]
  },
  {
   "cell_type": "code",
   "execution_count": 26,
   "id": "1f71242b-cd03-4f5c-8fb1-bc880b821658",
   "metadata": {},
   "outputs": [],
   "source": [
    "# writing a function to get the sentiment of the overall summary\n",
    "\n",
    "def get_compound(df):\n",
    "    text = df['clean']\n",
    "    scores = vader.polarity_scores(text)\n",
    "    compound = scores['compound']\n",
    "    \n",
    "    sentiment = 'Neutral'\n",
    "    if compound >= 0.3:\n",
    "        sentiment = 'Positive'\n",
    "    elif compound <= -0.3:\n",
    "        sentiment = 'Negative'\n",
    "    df['compound'] = compound\n",
    "    df['sentiment'] = sentiment\n",
    "    return df\n",
    "\n",
    "df = df.apply(get_compound, axis = 1)"
   ]
  },
  {
   "cell_type": "code",
   "execution_count": 27,
   "id": "7d1ab66c-c713-43bf-b9c4-d952e1647e51",
   "metadata": {},
   "outputs": [
    {
     "data": {
      "text/html": [
       "<div>\n",
       "<style scoped>\n",
       "    .dataframe tbody tr th:only-of-type {\n",
       "        vertical-align: middle;\n",
       "    }\n",
       "\n",
       "    .dataframe tbody tr th {\n",
       "        vertical-align: top;\n",
       "    }\n",
       "\n",
       "    .dataframe thead th {\n",
       "        text-align: right;\n",
       "    }\n",
       "</style>\n",
       "<table border=\"1\" class=\"dataframe\">\n",
       "  <thead>\n",
       "    <tr style=\"text-align: right;\">\n",
       "      <th></th>\n",
       "      <th>text</th>\n",
       "      <th>labels</th>\n",
       "      <th>summary</th>\n",
       "      <th>clean</th>\n",
       "      <th>compound</th>\n",
       "      <th>sentiment</th>\n",
       "    </tr>\n",
       "  </thead>\n",
       "  <tbody>\n",
       "    <tr>\n",
       "      <th>0</th>\n",
       "      <td>Ad sales boost Time Warner profit\\n\\nQuarterly...</td>\n",
       "      <td>business</td>\n",
       "      <td>['The firm, which is now one of the biggest in...</td>\n",
       "      <td>the firm, which is now one of the biggest inve...</td>\n",
       "      <td>0.9404</td>\n",
       "      <td>Positive</td>\n",
       "    </tr>\n",
       "    <tr>\n",
       "      <th>1</th>\n",
       "      <td>Dollar gains on Greenspan speech\\n\\nThe dollar...</td>\n",
       "      <td>business</td>\n",
       "      <td>[\"And Alan Greenspan highlighted the US govern...</td>\n",
       "      <td>and alan greenspan highlighted the us governme...</td>\n",
       "      <td>0.8122</td>\n",
       "      <td>Positive</td>\n",
       "    </tr>\n",
       "    <tr>\n",
       "      <th>2</th>\n",
       "      <td>Yukos unit buyer faces loan claim\\n\\nThe owner...</td>\n",
       "      <td>business</td>\n",
       "      <td>['The owners of embattled Russian oil giant Yu...</td>\n",
       "      <td>the owners of embattled russian oil giant yuko...</td>\n",
       "      <td>-0.5499</td>\n",
       "      <td>Negative</td>\n",
       "    </tr>\n",
       "    <tr>\n",
       "      <th>3</th>\n",
       "      <td>High fuel prices hit BA's profits\\n\\nBritish A...</td>\n",
       "      <td>business</td>\n",
       "      <td>['British Airways has blamed high fuel prices ...</td>\n",
       "      <td>british airways has blamed high fuel prices fo...</td>\n",
       "      <td>0.8625</td>\n",
       "      <td>Positive</td>\n",
       "    </tr>\n",
       "    <tr>\n",
       "      <th>4</th>\n",
       "      <td>Pernod takeover talk lifts Domecq\\n\\nShares in...</td>\n",
       "      <td>business</td>\n",
       "      <td>[\"Shares in UK drinks and food firm Allied Dom...</td>\n",
       "      <td>shares in uk drinks and food firm allied domec...</td>\n",
       "      <td>-0.4497</td>\n",
       "      <td>Negative</td>\n",
       "    </tr>\n",
       "  </tbody>\n",
       "</table>\n",
       "</div>"
      ],
      "text/plain": [
       "                                                text    labels  \\\n",
       "0  Ad sales boost Time Warner profit\\n\\nQuarterly...  business   \n",
       "1  Dollar gains on Greenspan speech\\n\\nThe dollar...  business   \n",
       "2  Yukos unit buyer faces loan claim\\n\\nThe owner...  business   \n",
       "3  High fuel prices hit BA's profits\\n\\nBritish A...  business   \n",
       "4  Pernod takeover talk lifts Domecq\\n\\nShares in...  business   \n",
       "\n",
       "                                             summary  \\\n",
       "0  ['The firm, which is now one of the biggest in...   \n",
       "1  [\"And Alan Greenspan highlighted the US govern...   \n",
       "2  ['The owners of embattled Russian oil giant Yu...   \n",
       "3  ['British Airways has blamed high fuel prices ...   \n",
       "4  [\"Shares in UK drinks and food firm Allied Dom...   \n",
       "\n",
       "                                               clean  compound sentiment  \n",
       "0  the firm, which is now one of the biggest inve...    0.9404  Positive  \n",
       "1  and alan greenspan highlighted the us governme...    0.8122  Positive  \n",
       "2  the owners of embattled russian oil giant yuko...   -0.5499  Negative  \n",
       "3  british airways has blamed high fuel prices fo...    0.8625  Positive  \n",
       "4  shares in uk drinks and food firm allied domec...   -0.4497  Negative  "
      ]
     },
     "execution_count": 27,
     "metadata": {},
     "output_type": "execute_result"
    }
   ],
   "source": [
    "df.head(5)"
   ]
  },
  {
   "cell_type": "code",
   "execution_count": 28,
   "id": "e8fe671e-fd40-490a-8fcd-5449236ea96b",
   "metadata": {},
   "outputs": [
    {
     "data": {
      "text/plain": [
       "Positive    1343\n",
       "Negative     608\n",
       "Neutral      274\n",
       "Name: sentiment, dtype: int64"
      ]
     },
     "execution_count": 28,
     "metadata": {},
     "output_type": "execute_result"
    }
   ],
   "source": [
    "# looking at all different values in the sentiment category and the count per each value\n",
    "\n",
    "df['sentiment'].value_counts()"
   ]
  },
  {
   "cell_type": "code",
   "execution_count": 29,
   "id": "448ea138-1565-48f3-88b7-6a29f1b4b8cc",
   "metadata": {},
   "outputs": [],
   "source": [
    "df.to_csv('sumy_sumamrizer.csv')"
   ]
  }
 ],
 "metadata": {
  "kernelspec": {
   "display_name": "Python 3",
   "language": "python",
   "name": "python3"
  },
  "language_info": {
   "codemirror_mode": {
    "name": "ipython",
    "version": 3
   },
   "file_extension": ".py",
   "mimetype": "text/x-python",
   "name": "python",
   "nbconvert_exporter": "python",
   "pygments_lexer": "ipython3",
   "version": "3.8.8"
  }
 },
 "nbformat": 4,
 "nbformat_minor": 5
}
