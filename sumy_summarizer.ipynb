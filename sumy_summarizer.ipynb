{
 "cells": [
  {
   "cell_type": "markdown",
   "id": "2cc49468-1326-455f-b06a-0f21b67c7044",
   "metadata": {},
   "source": [
    "# Text Summarization with Sumy\n",
    "\n",
    "#### What is Sumy?\n",
    "\n",
    "+ Is a simple library used for extracting summary from HTML pages or plain texts\n",
    "+ The package also contains simple evaluation framework for text summaries\n",
    "\n",
    "#### Goal\n",
    "\n",
    "+ To build an extractive text summarizer highlighting the key points of the article\n",
    "\n",
    "#### Approach\n",
    "\n",
    "+ Import libraries and data\n",
    "+ Create a function to wrap the text and easier to read\n",
    "+ Build the summarizer and parser using sumy packages\n",
    "+ Add them to the dataframe"
   ]
  },
  {
   "cell_type": "code",
   "execution_count": 11,
   "id": "3d621324-adf5-4ab2-82a3-44f8b3718796",
   "metadata": {},
   "outputs": [
    {
     "data": {
      "text/html": [
       "<div>\n",
       "<style scoped>\n",
       "    .dataframe tbody tr th:only-of-type {\n",
       "        vertical-align: middle;\n",
       "    }\n",
       "\n",
       "    .dataframe tbody tr th {\n",
       "        vertical-align: top;\n",
       "    }\n",
       "\n",
       "    .dataframe thead th {\n",
       "        text-align: right;\n",
       "    }\n",
       "</style>\n",
       "<table border=\"1\" class=\"dataframe\">\n",
       "  <thead>\n",
       "    <tr style=\"text-align: right;\">\n",
       "      <th></th>\n",
       "      <th>text</th>\n",
       "      <th>labels</th>\n",
       "    </tr>\n",
       "  </thead>\n",
       "  <tbody>\n",
       "    <tr>\n",
       "      <th>0</th>\n",
       "      <td>Ad sales boost Time Warner profit\\n\\nQuarterly...</td>\n",
       "      <td>business</td>\n",
       "    </tr>\n",
       "    <tr>\n",
       "      <th>1</th>\n",
       "      <td>Dollar gains on Greenspan speech\\n\\nThe dollar...</td>\n",
       "      <td>business</td>\n",
       "    </tr>\n",
       "    <tr>\n",
       "      <th>2</th>\n",
       "      <td>Yukos unit buyer faces loan claim\\n\\nThe owner...</td>\n",
       "      <td>business</td>\n",
       "    </tr>\n",
       "    <tr>\n",
       "      <th>3</th>\n",
       "      <td>High fuel prices hit BA's profits\\n\\nBritish A...</td>\n",
       "      <td>business</td>\n",
       "    </tr>\n",
       "    <tr>\n",
       "      <th>4</th>\n",
       "      <td>Pernod takeover talk lifts Domecq\\n\\nShares in...</td>\n",
       "      <td>business</td>\n",
       "    </tr>\n",
       "  </tbody>\n",
       "</table>\n",
       "</div>"
      ],
      "text/plain": [
       "                                                text    labels\n",
       "0  Ad sales boost Time Warner profit\\n\\nQuarterly...  business\n",
       "1  Dollar gains on Greenspan speech\\n\\nThe dollar...  business\n",
       "2  Yukos unit buyer faces loan claim\\n\\nThe owner...  business\n",
       "3  High fuel prices hit BA's profits\\n\\nBritish A...  business\n",
       "4  Pernod takeover talk lifts Domecq\\n\\nShares in...  business"
      ]
     },
     "execution_count": 11,
     "metadata": {},
     "output_type": "execute_result"
    }
   ],
   "source": [
    "import pandas as pd\n",
    "import numpy as np\n",
    "import matplotlib.pyplot as plt\n",
    "import seaborn as sns\n",
    "import textwrap\n",
    "\n",
    "df = pd.read_csv('data/bbc_text.csv')\n",
    "df.head(5)"
   ]
  },
  {
   "cell_type": "code",
   "execution_count": 28,
   "id": "ee083471-c859-4802-90d3-dfb7cc14e465",
   "metadata": {},
   "outputs": [],
   "source": [
    "df['text'] = pd.Series(df['text'], dtype = 'string')"
   ]
  },
  {
   "cell_type": "code",
   "execution_count": 13,
   "id": "09e7f214-0536-4fdf-a5a5-afe2f3d4182a",
   "metadata": {},
   "outputs": [],
   "source": [
    "# filtering out labels that are not business and grabbing a random simple\n",
    "\n",
    "doc = df[df['labels'] == 'entertainment']['text'].sample(random_state = 123)"
   ]
  },
  {
   "cell_type": "code",
   "execution_count": 6,
   "id": "e771d91b-357a-4459-a106-d68681654e85",
   "metadata": {},
   "outputs": [],
   "source": [
    "# using textwrap make the text more visually appealing\n",
    "\n",
    "def wrap(x):\n",
    "    return textwrap.fill(x, replace_whitespace = False, fix_sentence_endings = True)"
   ]
  },
  {
   "cell_type": "code",
   "execution_count": 2,
   "id": "0b915e4e-b239-42ad-9a12-7307300f10c2",
   "metadata": {},
   "outputs": [],
   "source": [
    "from sumy.summarizers.text_rank import TextRankSummarizer\n",
    "from sumy.summarizers.lsa import LsaSummarizer\n",
    "from sumy.parsers.plaintext import PlaintextParser\n",
    "from sumy.nlp.tokenizers import Tokenizer"
   ]
  },
  {
   "cell_type": "code",
   "execution_count": 30,
   "id": "178219b9-2a12-4fdf-be24-c7cc06196252",
   "metadata": {},
   "outputs": [],
   "source": [
    "summarizer = TextRankSummarizer()\n",
    "parser = PlaintextParser.from_string(doc.iloc[0].split('\\n', 1)[1], Tokenizer('english'))"
   ]
  },
  {
   "cell_type": "code",
   "execution_count": 17,
   "id": "33cd2b5b-d6a4-4b81-a5df-fd81bbcc992e",
   "metadata": {},
   "outputs": [],
   "source": [
    "summary = summarizer(parser.document, sentences_count = 5)"
   ]
  },
  {
   "cell_type": "code",
   "execution_count": 18,
   "id": "3ec853c1-a9e3-42cf-aec7-32534d398a8e",
   "metadata": {},
   "outputs": [
    {
     "data": {
      "text/plain": [
       "(<Sentence: The 21-year-old singer won the award for best female artist, with Australian Idol runner-up Shannon Noll taking the title of best male at the ceremony.>,\n",
       " <Sentence: As well as best female, Goodrem also took home the Pepsi Viewers Choice Award, whilst Green Day bagged the prize for best rock video for American Idiot.>,\n",
       " <Sentence: The Black Eyed Peas won awards for best R 'n' B video and sexiest video, both for Hey Mama.>,\n",
       " <Sentence: Local singer and songwriter Missy Higgins took the title of breakthrough artist of the year, with Australian Idol winner Guy Sebastian taking the honours for best pop video.>,\n",
       " <Sentence: The ceremony was held at the Luna Park fairground in Sydney Harbour and was hosted by the Osbourne family.>)"
      ]
     },
     "execution_count": 18,
     "metadata": {},
     "output_type": "execute_result"
    }
   ],
   "source": [
    "summary"
   ]
  },
  {
   "cell_type": "code",
   "execution_count": 19,
   "id": "ac5f0411-71a7-43e6-a7d7-c7c453a9f02e",
   "metadata": {},
   "outputs": [
    {
     "name": "stdout",
     "output_type": "stream",
     "text": [
      "The 21-year-old singer won the award for best female artist, with\n",
      "Australian Idol runner-up Shannon Noll taking the title of best male\n",
      "at the ceremony.\n",
      "As well as best female, Goodrem also took home the Pepsi Viewers\n",
      "Choice Award, whilst Green Day bagged the prize for best rock video\n",
      "for American Idiot.\n",
      "The Black Eyed Peas won awards for best R 'n' B video and sexiest\n",
      "video, both for Hey Mama.\n",
      "Local singer and songwriter Missy Higgins took the title of\n",
      "breakthrough artist of the year, with Australian Idol winner Guy\n",
      "Sebastian taking the honours for best pop video.\n",
      "The ceremony was held at the Luna Park fairground in Sydney Harbour\n",
      "and was hosted by the Osbourne family.\n"
     ]
    }
   ],
   "source": [
    "for s in summary:\n",
    "    print(wrap(str(s)))"
   ]
  },
  {
   "cell_type": "code",
   "execution_count": 26,
   "id": "81f7f2e1-d114-46ec-81ca-d03c40d56602",
   "metadata": {},
   "outputs": [
    {
     "name": "stdout",
     "output_type": "stream",
     "text": [
      "Goodrem, known in both Britain and Australia for her role as Nina\n",
      "Tucker in TV soap Neighbours, also performed a duet with boyfriend\n",
      "Brian McFadden.\n",
      "Other winners included Green Day, voted best group, and the Black Eyed\n",
      "Peas.\n",
      "Goodrem, Green Day and the Black Eyed Peas took home two awards each.\n",
      "As well as best female, Goodrem also took home the Pepsi Viewers\n",
      "Choice Award, whilst Green Day bagged the prize for best rock video\n",
      "for American Idiot.\n",
      "Artists including Carmen Electra, Missy Higgins, Kelly Osbourne, Green\n",
      "Day, Ja Rule and Natalie Imbruglia gave live performances at the\n",
      "event.\n"
     ]
    }
   ],
   "source": [
    "summarizer = LsaSummarizer()\n",
    "summary = summarizer(parser.document, sentences_count = 5)\n",
    "\n",
    "for s in summary:\n",
    "    print(wrap(str(s)))"
   ]
  },
  {
   "cell_type": "code",
   "execution_count": 41,
   "id": "81d9aace-eabb-417f-8abf-c4630fb78512",
   "metadata": {},
   "outputs": [],
   "source": [
    "summmarized = []\n",
    "text = df['text'].apply(str)\n",
    "\n",
    "text = text."
   ]
  },
  {
   "cell_type": "code",
   "execution_count": 42,
   "id": "51e2bd88-c34e-4888-8777-069bc82b00c0",
   "metadata": {},
   "outputs": [
    {
     "data": {
      "text/plain": [
       "0       Ad sales boost Time Warner profit\\n\\nQuarterly...\n",
       "1       Dollar gains on Greenspan speech\\n\\nThe dollar...\n",
       "2       Yukos unit buyer faces loan claim\\n\\nThe owner...\n",
       "3       High fuel prices hit BA's profits\\n\\nBritish A...\n",
       "4       Pernod takeover talk lifts Domecq\\n\\nShares in...\n",
       "                              ...                        \n",
       "2220    BT program to beat dialler scams\\n\\nBT is intr...\n",
       "2221    Spam e-mails tempt net shoppers\\n\\nComputer us...\n",
       "2222    Be careful how you code\\n\\nA new European dire...\n",
       "2223    US cyber security chief resigns\\n\\nThe man mak...\n",
       "2224    Losing yourself in online gaming\\n\\nOnline rol...\n",
       "Name: text, Length: 2225, dtype: object"
      ]
     },
     "execution_count": 42,
     "metadata": {},
     "output_type": "execute_result"
    }
   ],
   "source": [
    "text"
   ]
  },
  {
   "cell_type": "code",
   "execution_count": null,
   "id": "ddeb3a22-fcd6-4ca8-b083-67a70d9219fa",
   "metadata": {},
   "outputs": [],
   "source": []
  },
  {
   "cell_type": "code",
   "execution_count": null,
   "id": "19918770-6ff6-488f-ac34-caaf705c947f",
   "metadata": {},
   "outputs": [],
   "source": []
  },
  {
   "cell_type": "code",
   "execution_count": null,
   "id": "d76cee43-2a63-424d-abfa-a8c157991810",
   "metadata": {},
   "outputs": [],
   "source": []
  }
 ],
 "metadata": {
  "kernelspec": {
   "display_name": "Python 3",
   "language": "python",
   "name": "python3"
  },
  "language_info": {
   "codemirror_mode": {
    "name": "ipython",
    "version": 3
   },
   "file_extension": ".py",
   "mimetype": "text/x-python",
   "name": "python",
   "nbconvert_exporter": "python",
   "pygments_lexer": "ipython3",
   "version": "3.8.8"
  }
 },
 "nbformat": 4,
 "nbformat_minor": 5
}
